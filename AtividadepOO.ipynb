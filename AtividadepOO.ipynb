{
  "nbformat": 4,
  "nbformat_minor": 0,
  "metadata": {
    "colab": {
      "provenance": [],
      "authorship_tag": "ABX9TyOBH9rsiPI5qiK6tDYyRPh1",
      "include_colab_link": true
    },
    "kernelspec": {
      "name": "python3",
      "display_name": "Python 3"
    },
    "language_info": {
      "name": "python"
    }
  },
  "cells": [
    {
      "cell_type": "markdown",
      "metadata": {
        "id": "view-in-github",
        "colab_type": "text"
      },
      "source": [
        "<a href=\"https://colab.research.google.com/github/Carolina-Lins/Atividade-Cloves/blob/main/AtividadepOO.ipynb\" target=\"_parent\"><img src=\"https://colab.research.google.com/assets/colab-badge.svg\" alt=\"Open In Colab\"/></a>"
      ]
    },
    {
      "cell_type": "code",
      "execution_count": 7,
      "metadata": {
        "colab": {
          "base_uri": "https://localhost:8080/"
        },
        "id": "FDzsQfWfJgOV",
        "outputId": "43241cfc-a734-46d7-bee8-ff2ad8654afc"
      },
      "outputs": [
        {
          "name": "stdout",
          "output_type": "stream",
          "text": [
            "Aluno, insira seu email ou nome do usuário: d\n",
            "Digite sua senha: d\n",
            "Informe o título: d\n",
            "Sobre o que você deseja falar?: d\n",
            "Informe o seu nome: d\n",
            "Informe o sexo: \n",
            "Digite um nome para o usuário: d\n",
            "Crie uma senha: d\n",
            "Informe o seu email: d\n",
            "Informe o seu nome: d\n",
            "Digite sua Data de Nascimento: d\n",
            "Informe o sexo: d\n",
            "Digite um nome para o usuário: d\n",
            "Crie uma senha: d\n",
            "Informe o seu email: d\n"
          ]
        }
      ],
      "source": [
        "class LoginAluno:\n",
        "  def _init_ (self, id_usuario, senha):\n",
        "    self.id_usuario = id_usuario\n",
        "    self.senha = senha\n",
        "\n",
        "id_usuario = input(\"Aluno, insira seu email ou nome do usuário: \")\n",
        "senha = input(\"Digite sua senha: \")\n",
        "\n",
        "\n",
        "class Forum:\n",
        "  def _init_(self, titulo, descricao):\n",
        "    self.titulo = titulo\n",
        "    self.descricao = descricao\n",
        "\n",
        "titulo = input(\"Informe o título: \")\n",
        "descricao = input(\"Sobre o que você deseja falar?: \")\n",
        "\n",
        "class CadastroAluno:\n",
        "  def _init_ (self, nomealuno, sexoaluno, emailaluno, id_usuarioaluno):\n",
        "    self.nomealuno = nomealuno\n",
        "    self.sexoaluno = sexoaluno\n",
        "    self.id_usuarioaluno = id_usuarioaluno\n",
        "    self.senhaaluno = self.senhaaluno\n",
        "    self.emailaluno = email\n",
        "\n",
        "nome = input(\"Informe o seu nome: \")\n",
        "sexo = input(\"Informe o sexo: \")\n",
        "id_usuario = input(\"Digite um nome para o usuário: \")\n",
        "senha = input(\"Crie uma senha: \")\n",
        "email = input(\"Informe o seu email: \")\n",
        "\n",
        "class LoginProf:\n",
        "    def _init_(self, id_prof, senhap):\n",
        "      self.id_prof = id_usuario\n",
        "      self.senhap = senha\n",
        "\n",
        "id_prof = (\"Professor, Insira seu email ou nome do usuário: \")\n",
        "senhap = (\"Digite sua senha: \")\n",
        "\n",
        "class CadastroProf:\n",
        "  def _init_ (self, nomeprof, data_nascimentoprof, sexoprof, emailprof, id_usuarioprof, senhaprof):\n",
        "    self.nomeprof = nomeprof\n",
        "    self.data_nascimentoprof = data_nascimentoprof\n",
        "    self.sexoprof = sexoprof\n",
        "    self.id_usuarioprof = id_usuarioprof\n",
        "    self.senhaprof = senhaprof\n",
        "    self.emailprof = emailprof\n",
        "\n",
        "nomeprof = input(\"Informe o seu nome: \")\n",
        "data_nascimentoprof = input(\"Digite sua Data de Nascimento: \")\n",
        "sexoprof = input(\"Informe o sexo: \")\n",
        "id_usuarioprof = input(\"Digite um nome para o usuário: \")\n",
        "senhaprof = input(\"Crie uma senha: \")\n",
        "emailprof = input(\"Informe o seu email: \")"
      ]
    }
  ]
}