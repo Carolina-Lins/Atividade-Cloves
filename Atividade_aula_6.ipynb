{
  "nbformat": 4,
  "nbformat_minor": 0,
  "metadata": {
    "colab": {
      "provenance": []
    },
    "kernelspec": {
      "name": "python3",
      "display_name": "Python 3"
    },
    "language_info": {
      "name": "python"
    }
  },
  "cells": [
    {
      "cell_type": "code",
      "execution_count": 1,
      "metadata": {
        "colab": {
          "base_uri": "https://localhost:8080/"
        },
        "id": "3oak3xaYBBiB",
        "outputId": "b5dc24ea-635b-4334-e55b-6419f12479bb"
      },
      "outputs": [
        {
          "output_type": "stream",
          "name": "stdout",
          "text": [
            "16\n"
          ]
        }
      ],
      "source": [
        "# ETE CÍCERO DIAS\n",
        "# PROF: CLOVES ROCHA\n",
        "# ALUNA: MARIA CAROLINA LINS DE OLIVEIRA\n",
        "# OPERADORES ARITMÉTICOS\n",
        "a = 6+10\n",
        "print (a)\n"
      ]
    },
    {
      "cell_type": "code",
      "source": [
        "# OPERADORES RELACIONAIS SIMPLES\n",
        "\n",
        "y = 13\n",
        "a = 2\n",
        "print (y >= a)"
      ],
      "metadata": {
        "colab": {
          "base_uri": "https://localhost:8080/"
        },
        "id": "1jad_zdNEptQ",
        "outputId": "32a83a1d-1200-4825-85ed-89b88abc741b"
      },
      "execution_count": 2,
      "outputs": [
        {
          "output_type": "stream",
          "name": "stdout",
          "text": [
            "True\n"
          ]
        }
      ]
    },
    {
      "cell_type": "code",
      "source": [
        "# OPERADORES RELACIONAIS COMPOSTOS\n",
        "\n",
        "C = 5\n",
        "K = 45\n",
        "print (C != K)"
      ],
      "metadata": {
        "colab": {
          "base_uri": "https://localhost:8080/"
        },
        "id": "q39_j_q-FJkE",
        "outputId": "156b2c6c-63fc-4b81-fae7-8891daa0c5b9"
      },
      "execution_count": 5,
      "outputs": [
        {
          "output_type": "stream",
          "name": "stdout",
          "text": [
            "True\n"
          ]
        }
      ]
    },
    {
      "cell_type": "code",
      "source": [
        "# FUNÇÃO INPUT COM INT OU FLOAT\n",
        "\n",
        "cantora = input('Qual o nome da melhor cantora internacional da geração?')\n",
        "print(f'O nome dela é {cantora}')\n",
        "print(type(cantora))"
      ],
      "metadata": {
        "colab": {
          "base_uri": "https://localhost:8080/"
        },
        "id": "9iMGkc3FFy66",
        "outputId": "d3ad56e4-0781-4717-c676-d13b3f3c0e22"
      },
      "execution_count": 6,
      "outputs": [
        {
          "output_type": "stream",
          "name": "stdout",
          "text": [
            "Qual o nome da melhor cantora internacional da geração?Taylor Swift\n",
            "O nome dela é Taylor Swift\n",
            "<class 'str'>\n"
          ]
        }
      ]
    }
  ]
}